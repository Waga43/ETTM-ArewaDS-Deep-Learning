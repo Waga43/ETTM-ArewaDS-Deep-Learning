{
  "nbformat": 4,
  "nbformat_minor": 0,
  "metadata": {
    "colab": {
      "provenance": [],
      "gpuType": "T4"
    },
    "kernelspec": {
      "name": "python3",
      "display_name": "Python 3"
    },
    "language_info": {
      "name": "python"
    },
    "accelerator": "GPU"
  },
  "cells": [
    {
      "cell_type": "code",
      "execution_count": 270,
      "metadata": {
        "id": "6W57U1ftuv6R"
      },
      "outputs": [],
      "source": [
        "# Import libraries\n",
        "import torch\n",
        "from torch import nn # nn contains all of PyTorch's building blocks for neural networks\n",
        "import numpy as np\n",
        "import pandas as pd\n",
        "import seaborn as sns\n",
        "import matplotlib.pyplot as plt"
      ]
    },
    {
      "cell_type": "code",
      "source": [
        "# Make the code device agnostic (meaning it could run on CPU or GPU if it's available)\n",
        "if torch.cuda.is_available():\n",
        "    device = \"cuda\" # Use NVIDIA GPU (if available)\n",
        "elif torch.backends.mps.is_available():\n",
        "    device = \"mps\" # Use Apple Silicon GPU (if available)\n",
        "else:\n",
        "    device = \"cpu\" # Default to CPU if no GPU is available"
      ],
      "metadata": {
        "id": "xjA17-G8bpNk"
      },
      "execution_count": 271,
      "outputs": []
    },
    {
      "cell_type": "markdown",
      "source": [
        "## Q1.  Create a straight line dataset using the linear regression formula (`weight * X + bias`).\n",
        "\n",
        "-   Set `weight=0.3` and `bias=0.9` there should be at least 100 datapoints total.\n",
        "-   Split the data into 80% training, 20% testing.\n",
        "-   Plot the training and testing data so it becomes visual."
      ],
      "metadata": {
        "id": "rm_9IvlgZmEV"
      }
    },
    {
      "cell_type": "markdown",
      "source": [
        "## Solution to Q1\n",
        "\n",
        "The Linear Regression line is given by the formula: `y = mx + b` where:\n",
        "\n",
        "- y = independent variable\n",
        "\n",
        "- x = dependent variable\n",
        "\n",
        "- m = slope/gradient or weight\n",
        "\n",
        "- b = y-intercept or bias"
      ],
      "metadata": {
        "id": "ixG6huCxdQiz"
      }
    },
    {
      "cell_type": "code",
      "source": [
        "# Using the given parameters\n",
        "weight = 0.3\n",
        "bias = 0.9\n",
        "\n",
        "# Create data\n",
        "start = 0\n",
        "end = 1\n",
        "step = 0.01\n",
        "X = torch.arange(start, end, step).unsqueeze(dim=1)\n",
        "y = weight * X + bias\n",
        "\n"
      ],
      "metadata": {
        "id": "_PlLNZGVYSpe"
      },
      "execution_count": 272,
      "outputs": []
    },
    {
      "cell_type": "code",
      "source": [
        "# The total number of data in both Independent and dependent variables\n",
        "print(f\"Number of datapoints (samples) in X: {len(X)}\\n\"\n",
        "      f\"Number of datapoints (samples) in y: {len(y)}.\")"
      ],
      "metadata": {
        "colab": {
          "base_uri": "https://localhost:8080/"
        },
        "id": "sE-s865RfAOD",
        "outputId": "0d039e02-f48a-4a5e-802d-bf426bfd0854"
      },
      "execution_count": 273,
      "outputs": [
        {
          "output_type": "stream",
          "name": "stdout",
          "text": [
            "Number of datapoints (samples) in X: 100\n",
            "Number of datapoints (samples) in y: 100.\n"
          ]
        }
      ]
    },
    {
      "cell_type": "code",
      "source": [
        "print(f\"First 10 samples in X\\n{X[:10]}\")"
      ],
      "metadata": {
        "colab": {
          "base_uri": "https://localhost:8080/"
        },
        "id": "uhYHxj8ltxqA",
        "outputId": "f083b4ef-5d12-4af5-8d65-db7853b2e8cd"
      },
      "execution_count": 274,
      "outputs": [
        {
          "output_type": "stream",
          "name": "stdout",
          "text": [
            "First 10 samples in X\n",
            "tensor([[0.0000],\n",
            "        [0.0100],\n",
            "        [0.0200],\n",
            "        [0.0300],\n",
            "        [0.0400],\n",
            "        [0.0500],\n",
            "        [0.0600],\n",
            "        [0.0700],\n",
            "        [0.0800],\n",
            "        [0.0900]])\n"
          ]
        }
      ]
    },
    {
      "cell_type": "code",
      "source": [
        "print(f\"First 10 datapoints in y\\n{y[:10]}\")"
      ],
      "metadata": {
        "colab": {
          "base_uri": "https://localhost:8080/"
        },
        "id": "73Nu1QAcuS9E",
        "outputId": "2bb07be0-dec5-4c21-a66a-0e2a20477e8a"
      },
      "execution_count": 275,
      "outputs": [
        {
          "output_type": "stream",
          "name": "stdout",
          "text": [
            "First 10 datapoints in y\n",
            "tensor([[0.9000],\n",
            "        [0.9030],\n",
            "        [0.9060],\n",
            "        [0.9090],\n",
            "        [0.9120],\n",
            "        [0.9150],\n",
            "        [0.9180],\n",
            "        [0.9210],\n",
            "        [0.9240],\n",
            "        [0.9270]])\n"
          ]
        }
      ]
    },
    {
      "cell_type": "code",
      "source": [
        "# Create train/test split\n",
        "# 80% of above data will be used for the training set, and 20% for the test set\n",
        "# len(X), len(y)\n",
        "train_split = int(0.8 * len(X))\n",
        "\n",
        "X_train, y_train = X[:train_split], y[:train_split]\n",
        "X_test, y_test = X[train_split:], y[train_split:]\n",
        "\n",
        "print(f\"Number of datapoints (samples) in X_train:\\t{len(X_train)}\\n\"\n",
        "      f\"Number of datapoints (samples) in y_train:\\t{len(y_train)}\\n\"\n",
        "      f\"Number of datapoints (samples) in X_test:\\t{len(X_test)}\\n\"\n",
        "      f\"Number of datapoints (samples) in y_test:\\t{len(y_test)}\")"
      ],
      "metadata": {
        "colab": {
          "base_uri": "https://localhost:8080/"
        },
        "id": "aWE9EG_2YS3z",
        "outputId": "7d477a57-9a7f-4ac0-f3cb-331674f3800d"
      },
      "execution_count": 276,
      "outputs": [
        {
          "output_type": "stream",
          "name": "stdout",
          "text": [
            "Number of datapoints (samples) in X_train:\t80\n",
            "Number of datapoints (samples) in y_train:\t80\n",
            "Number of datapoints (samples) in X_test:\t20\n",
            "Number of datapoints (samples) in y_test:\t20\n"
          ]
        }
      ]
    },
    {
      "cell_type": "code",
      "source": [
        "def plot_predictions(train_data=X_train,\n",
        "                     train_labels=y_train,\n",
        "                     test_data=X_test,\n",
        "                     test_labels=y_test,\n",
        "                     predictions=None):\n",
        "  \"\"\"\n",
        "  Plots training data, test data and compares predictions.\n",
        "  \"\"\"\n",
        "  plt.figure(figsize=(10, 7))\n",
        "\n",
        "  # Plot training data in blue\n",
        "  plt.scatter(train_data, train_labels, c=\"b\", s=4, label=\"Training data\")\n",
        "\n",
        "  # Plot test data in green\n",
        "  plt.scatter(test_data, test_labels, c=\"g\", s=4, label=\"Testing data\")\n",
        "\n",
        "  if predictions is not None:\n",
        "    # Plot the predictions in red (predictions were made on the test data)\n",
        "    plt.scatter(test_data, predictions, c=\"r\", s=4, label=\"Predictions\")\n",
        "\n",
        "  # Show the legend\n",
        "  plt.legend(prop={\"size\": 14});"
      ],
      "metadata": {
        "id": "H9LeQRBOYS-O"
      },
      "execution_count": 277,
      "outputs": []
    },
    {
      "cell_type": "code",
      "source": [
        "plot_predictions()"
      ],
      "metadata": {
        "colab": {
          "base_uri": "https://localhost:8080/",
          "height": 599
        },
        "id": "lsuDV-PPfuGe",
        "outputId": "032bef20-387f-4d64-978b-65fcefaf02f2"
      },
      "execution_count": 278,
      "outputs": [
        {
          "output_type": "display_data",
          "data": {
            "text/plain": [
              "<Figure size 1000x700 with 1 Axes>"
            ],
            "image/png": "[encoded data removed]"
          },
          "metadata": {}
        }
      ]
    },
    {
      "cell_type": "markdown",
      "source": [
        "## Q2.  Build a PyTorch model by subclassing `nn.Module`.\n",
        "\n",
        "-   Inside should be a randomly initialized `nn.Parameter()` with `requires_grad=True`, one for `weights` and one for `bias`.\n",
        "-   Implement the `forward()` method to compute the linear regression function you used to create the dataset in 1.\n",
        "-   Once you've constructed the model, make an instance of it and check its `state_dict()`.\n",
        "-   **Note:** If you'd like to use `nn.Linear()` instead of `nn.Parameter()` you can."
      ],
      "metadata": {
        "id": "2wo65jFaf-9R"
      }
    },
    {
      "cell_type": "code",
      "source": [
        "# Create a Linear Regression model class\n",
        "class LinearRegressionModel(nn.Module): # <- almost everything in PyTorch is a nn.Module (think of this as neural network lego blocks)\n",
        "    def __init__(self):\n",
        "        super().__init__()\n",
        "        self.weights = nn.Parameter(data = torch.randn(1, # <- start with random weight of 1 (this will get adjusted as the model learns)\n",
        "                                                dtype=torch.float), # <- PyTorch uses float32 by default\n",
        "                                   requires_grad=True) # <- can we update this value with gradient descent?)\n",
        "\n",
        "        self.bias = nn.Parameter(torch.randn(1, # <- start with random bias of 1 (this will get adjusted as the model learns)\n",
        "                                            dtype=torch.float), # <- PyTorch uses float32 by default\n",
        "                                requires_grad=True) # <- can we update this value with gradient descent?))\n",
        "\n",
        "    # Forward defines the computation in the Linear Regression model\n",
        "    def forward(self, x: torch.Tensor) -> torch.Tensor: # <- \"x\" is the input data (e.g. training/testing features)\n",
        "        return self.weights * x + self.bias # <- this is the linear regression formula (y = m*x + b)"
      ],
      "metadata": {
        "id": "j6TigXMjfzYw"
      },
      "execution_count": 279,
      "outputs": []
    },
    {
      "cell_type": "code",
      "source": [
        "# Set manual seed since nn.Parameter are randomly initialized\n",
        "torch.manual_seed(42)\n",
        "\n",
        "# Create an instance of the model (this is a subclass of nn.Module that contains nn.Parameter(s))\n",
        "model_1 = LinearRegressionModel()\n",
        "\n",
        "# Check the nn.Parameter(s) within the nn.Module subclass we created\n",
        "list(model_1.parameters())"
      ],
      "metadata": {
        "colab": {
          "base_uri": "https://localhost:8080/"
        },
        "id": "3mf58t6DhIi3",
        "outputId": "e5effbfb-6a9b-4460-ec44-80d31b3ea257"
      },
      "execution_count": 280,
      "outputs": [
        {
          "output_type": "execute_result",
          "data": {
            "text/plain": [
              "[Parameter containing:\n",
              " tensor([0.3367], requires_grad=True),\n",
              " Parameter containing:\n",
              " tensor([0.1288], requires_grad=True)]"
            ]
          },
          "metadata": {},
          "execution_count": 280
        }
      ]
    },
    {
      "cell_type": "code",
      "source": [
        "for i in model_1.parameters():\n",
        "  print(f\"{i}\")"
      ],
      "metadata": {
        "colab": {
          "base_uri": "https://localhost:8080/"
        },
        "id": "0Nd7ddIXoKGo",
        "outputId": "9ccedde3-b2f5-4868-806f-a14626c68478"
      },
      "execution_count": 281,
      "outputs": [
        {
          "output_type": "stream",
          "name": "stdout",
          "text": [
            "Parameter containing:\n",
            "tensor([0.3367], requires_grad=True)\n",
            "Parameter containing:\n",
            "tensor([0.1288], requires_grad=True)\n"
          ]
        }
      ]
    },
    {
      "cell_type": "code",
      "source": [
        "# List named parameters\n",
        "model_1.state_dict()"
      ],
      "metadata": {
        "colab": {
          "base_uri": "https://localhost:8080/"
        },
        "id": "Lmdit8AGhfn9",
        "outputId": "53e3b5da-4709-4ee0-e919-6561e004dcec"
      },
      "execution_count": 282,
      "outputs": [
        {
          "output_type": "execute_result",
          "data": {
            "text/plain": [
              "OrderedDict([('weights', tensor([0.3367])), ('bias', tensor([0.1288]))])"
            ]
          },
          "metadata": {},
          "execution_count": 282
        }
      ]
    },
    {
      "cell_type": "code",
      "source": [
        "# Put the model to the target device and check its parameters\n",
        "# model_1_device = model_1.to(device)\n",
        "# list(model_1_device.parameters())\n",
        "list(model_1.to(device).parameters())"
      ],
      "metadata": {
        "colab": {
          "base_uri": "https://localhost:8080/"
        },
        "id": "bMBKroMPmBYY",
        "outputId": "7be83e75-fd30-46c4-a4ec-e5b5ad580f9c"
      },
      "execution_count": 283,
      "outputs": [
        {
          "output_type": "execute_result",
          "data": {
            "text/plain": [
              "[Parameter containing:\n",
              " tensor([0.3367], device='cuda:0', requires_grad=True),\n",
              " Parameter containing:\n",
              " tensor([0.1288], device='cuda:0', requires_grad=True)]"
            ]
          },
          "metadata": {},
          "execution_count": 283
        }
      ]
    },
    {
      "cell_type": "code",
      "source": [
        "# Check the device with the below code, if the all the parameters in the model are on the same device\n",
        "next(model_1.parameters()).device"
      ],
      "metadata": {
        "colab": {
          "base_uri": "https://localhost:8080/"
        },
        "id": "Xn8C9MhGkH7C",
        "outputId": "7e47a675-b456-4733-e545-f5a7da074f88"
      },
      "execution_count": 284,
      "outputs": [
        {
          "output_type": "execute_result",
          "data": {
            "text/plain": [
              "device(type='cuda', index=0)"
            ]
          },
          "metadata": {},
          "execution_count": 284
        }
      ]
    },
    {
      "cell_type": "markdown",
      "source": [
        "## Q3. Create a loss function and optimizer using nn.L1Loss() and torch.optim.SGD(params, lr) respectively.\n",
        "\n",
        "- Set the learning rate of the optimizer to be 0.01 and the parameters to optimize should be the model parameters from the model you created in 2.\n",
        "\n",
        "- Write a training loop to perform the appropriate training steps for 300 epochs.\n",
        "\n",
        "- The training loop should test the model on the test dataset every 20 epochs."
      ],
      "metadata": {
        "id": "B4tQjp-Shwnn"
      }
    },
    {
      "cell_type": "code",
      "source": [
        "# Create the loss function\n",
        "loss_fn = nn.L1Loss() # MAE loss is same as L1Loss\n",
        "\n",
        "# Create the optimizer\n",
        "optimizer = torch.optim.SGD(params=model_1.parameters(), # parameters of target model to optimize\n",
        "                            lr=0.01) # learning rate (how much the optimizer should change parameters at each step, higher=more (less stable), lower=less (might take a long time))"
      ],
      "metadata": {
        "id": "_xMUeX-JhkkB"
      },
      "execution_count": 285,
      "outputs": []
    },
    {
      "cell_type": "code",
      "source": [
        "torch.manual_seed(42)\n",
        "\n",
        "# Set the number of epochs to 300 (how many times the model will pass over the training data)\n",
        "epochs = 300\n",
        "\n",
        "# Create empty loss lists to track values\n",
        "train_loss_values = []\n",
        "test_loss_values = []\n",
        "epoch_count = []\n",
        "\n",
        "# Move the data to the target device\n",
        "X_train = X_train.to(device)\n",
        "y_train = y_train.to(device)\n",
        "X_test = X_test.to(device)\n",
        "y_test = y_test.to(device)\n",
        "\n",
        "# Move the model to the target device\n",
        "model_1 = model_1.to(device)\n",
        "\n",
        "for epoch in range(epochs):\n",
        "    ### Training\n",
        "\n",
        "    # Put model in training mode (this is the default state of a model)\n",
        "    model_1.train()\n",
        "\n",
        "    # 1. Forward pass on train data using the forward() method inside\n",
        "    y_pred = model_1(X_train)\n",
        "    # print(y_pred)\n",
        "\n",
        "    # 2. Calculate the loss (how different are our models predictions to the ground truth)\n",
        "    loss = loss_fn(y_pred, y_train)\n",
        "\n",
        "    # 3. Zero grad of the optimizer\n",
        "    optimizer.zero_grad()\n",
        "\n",
        "    # 4. Loss backwards (Backpropagation)\n",
        "    loss.backward()\n",
        "\n",
        "    # 5. Progress/Step the optimizer\n",
        "    optimizer.step()\n",
        "\n",
        "    ### Testing\n",
        "\n",
        "    # Put the model in evaluation mode\n",
        "    model_1.eval()\n",
        "\n",
        "    with torch.inference_mode():\n",
        "      # 1. Forward pass on test data\n",
        "      test_pred = model_1(X_test)\n",
        "\n",
        "      # 2. Caculate loss on test data\n",
        "      test_loss = loss_fn(test_pred, y_test.type(torch.float)) # predictions come in torch.float datatype, so comparisons need to be done with tensors of the same type\n",
        "\n",
        "      # Test the model on the test dataset every 20 epochs and Print out what's happening\n",
        "      if epoch % 20 == 0:\n",
        "            epoch_count.append(epoch)\n",
        "            # Move loss to CPU before converting to NumPy\n",
        "            train_loss_values.append(loss.cpu().detach().numpy())\n",
        "            # Move test_loss to CPU before converting to NumPy\n",
        "            test_loss_values.append(test_loss.cpu().detach().numpy())\n",
        "            print(f\"{'Epoch:':=^40}\\nEpoch:{epoch}\\nMAE Train Loss: {loss:.3f} \\nMAE Test Loss: {test_loss:.3f}\\n\")"
      ],
      "metadata": {
        "colab": {
          "base_uri": "https://localhost:8080/"
        },
        "id": "1kuvKVwwhkol",
        "outputId": "296f53ce-7c9a-47df-ba0f-40d00a3abea1"
      },
      "execution_count": 286,
      "outputs": [
        {
          "output_type": "stream",
          "name": "stdout",
          "text": [
            "=================Epoch:=================\n",
            "Epoch:0\n",
            "MAE Train Loss: 0.757 \n",
            "MAE Test Loss: 0.725\n",
            "\n",
            "=================Epoch:=================\n",
            "Epoch:20\n",
            "MAE Train Loss: 0.525 \n",
            "MAE Test Loss: 0.454\n",
            "\n",
            "=================Epoch:=================\n",
            "Epoch:40\n",
            "MAE Train Loss: 0.294 \n",
            "MAE Test Loss: 0.183\n",
            "\n",
            "=================Epoch:=================\n",
            "Epoch:60\n",
            "MAE Train Loss: 0.077 \n",
            "MAE Test Loss: 0.073\n",
            "\n",
            "=================Epoch:=================\n",
            "Epoch:80\n",
            "MAE Train Loss: 0.053 \n",
            "MAE Test Loss: 0.116\n",
            "\n",
            "=================Epoch:=================\n",
            "Epoch:100\n",
            "MAE Train Loss: 0.046 \n",
            "MAE Test Loss: 0.105\n",
            "\n",
            "=================Epoch:=================\n",
            "Epoch:120\n",
            "MAE Train Loss: 0.039 \n",
            "MAE Test Loss: 0.089\n",
            "\n",
            "=================Epoch:=================\n",
            "Epoch:140\n",
            "MAE Train Loss: 0.032 \n",
            "MAE Test Loss: 0.074\n",
            "\n",
            "=================Epoch:=================\n",
            "Epoch:160\n",
            "MAE Train Loss: 0.025 \n",
            "MAE Test Loss: 0.058\n",
            "\n",
            "=================Epoch:=================\n",
            "Epoch:180\n",
            "MAE Train Loss: 0.018 \n",
            "MAE Test Loss: 0.042\n",
            "\n",
            "=================Epoch:=================\n",
            "Epoch:200\n",
            "MAE Train Loss: 0.011 \n",
            "MAE Test Loss: 0.026\n",
            "\n",
            "=================Epoch:=================\n",
            "Epoch:220\n",
            "MAE Train Loss: 0.004 \n",
            "MAE Test Loss: 0.009\n",
            "\n",
            "=================Epoch:=================\n",
            "Epoch:240\n",
            "MAE Train Loss: 0.004 \n",
            "MAE Test Loss: 0.006\n",
            "\n",
            "=================Epoch:=================\n",
            "Epoch:260\n",
            "MAE Train Loss: 0.004 \n",
            "MAE Test Loss: 0.006\n",
            "\n",
            "=================Epoch:=================\n",
            "Epoch:280\n",
            "MAE Train Loss: 0.004 \n",
            "MAE Test Loss: 0.006\n",
            "\n"
          ]
        }
      ]
    },
    {
      "cell_type": "markdown",
      "source": [
        "## Q4. Make predictions with the trained model on the test data.\n",
        "\n",
        "- Visualize these predictions against the original training and testing data (note: you may need to make sure the predictions are not on the GPU if you want to use non-CUDA-enabled libraries such as matplotlib to plot)."
      ],
      "metadata": {
        "id": "R4ECPDyEmXmF"
      }
    },
    {
      "cell_type": "code",
      "source": [
        "# Plot the loss curves\n",
        "plt.plot(epoch_count, train_loss_values, label=\"Train loss\")\n",
        "plt.plot(epoch_count, test_loss_values, label=\"Test loss\")\n",
        "plt.title(\"Training and test loss curves\")\n",
        "plt.ylabel(\"Loss\")\n",
        "plt.xlabel(\"Epochs\")\n",
        "plt.legend();"
      ],
      "metadata": {
        "colab": {
          "base_uri": "https://localhost:8080/",
          "height": 472
        },
        "id": "WNIwbrd_hk0e",
        "outputId": "eeb8d32b-2323-47ed-c83a-4e9abbf3bf4e"
      },
      "execution_count": 287,
      "outputs": [
        {
          "output_type": "display_data",
          "data": {
            "text/plain": [
              "<Figure size 640x480 with 1 Axes>"
            ],
            "image/png": "[encoded data removed]"
          },
          "metadata": {}
        }
      ]
    },
    {
      "cell_type": "code",
      "source": [
        "# 1. Set the model in evaluation mode\n",
        "model_1.eval()\n",
        "\n",
        "# 2. Setup the inference mode context manager\n",
        "with torch.inference_mode():\n",
        "  # 3. Make sure the calculations are done with the model and data on the same device\n",
        "  # in our case, we have setup device-agnostic code\n",
        "  # model_1.to(device)\n",
        "  # X_test = X_test.to(device)\n",
        "  # Move predictions to CPU before plotting\n",
        "  y_preds = y_preds.cpu() # Add this line to move data to CPU\n",
        "  y_preds = model_1(X_test)\n",
        "\n",
        "y_preds"
      ],
      "metadata": {
        "colab": {
          "base_uri": "https://localhost:8080/"
        },
        "id": "i61KhGfvmvwn",
        "outputId": "bd8037e3-21e8-4233-844c-6a7f863c1de0"
      },
      "execution_count": 288,
      "outputs": [
        {
          "output_type": "execute_result",
          "data": {
            "text/plain": [
              "tensor([[1.1464],\n",
              "        [1.1495],\n",
              "        [1.1525],\n",
              "        [1.1556],\n",
              "        [1.1587],\n",
              "        [1.1617],\n",
              "        [1.1648],\n",
              "        [1.1679],\n",
              "        [1.1709],\n",
              "        [1.1740],\n",
              "        [1.1771],\n",
              "        [1.1801],\n",
              "        [1.1832],\n",
              "        [1.1863],\n",
              "        [1.1893],\n",
              "        [1.1924],\n",
              "        [1.1955],\n",
              "        [1.1985],\n",
              "        [1.2016],\n",
              "        [1.2047]], device='cuda:0')"
            ]
          },
          "metadata": {},
          "execution_count": 288
        }
      ]
    },
    {
      "cell_type": "code",
      "source": [
        "# Check the predictions on the CPU also\n",
        "y_preds.cpu()"
      ],
      "metadata": {
        "colab": {
          "base_uri": "https://localhost:8080/"
        },
        "id": "yEis-25BwK6N",
        "outputId": "9d9d7994-f93d-4677-a54e-02860d83925e"
      },
      "execution_count": 289,
      "outputs": [
        {
          "output_type": "execute_result",
          "data": {
            "text/plain": [
              "tensor([[1.1464],\n",
              "        [1.1495],\n",
              "        [1.1525],\n",
              "        [1.1556],\n",
              "        [1.1587],\n",
              "        [1.1617],\n",
              "        [1.1648],\n",
              "        [1.1679],\n",
              "        [1.1709],\n",
              "        [1.1740],\n",
              "        [1.1771],\n",
              "        [1.1801],\n",
              "        [1.1832],\n",
              "        [1.1863],\n",
              "        [1.1893],\n",
              "        [1.1924],\n",
              "        [1.1955],\n",
              "        [1.1985],\n",
              "        [1.2016],\n",
              "        [1.2047]])"
            ]
          },
          "metadata": {},
          "execution_count": 289
        }
      ]
    },
    {
      "cell_type": "code",
      "source": [
        "# Check the predictions on GPU\n",
        "y_preds.cuda()"
      ],
      "metadata": {
        "colab": {
          "base_uri": "https://localhost:8080/"
        },
        "id": "YcjmOUQmwSgF",
        "outputId": "2392da33-06a6-4802-e6d7-3555e219dcaa"
      },
      "execution_count": 290,
      "outputs": [
        {
          "output_type": "execute_result",
          "data": {
            "text/plain": [
              "tensor([[1.1464],\n",
              "        [1.1495],\n",
              "        [1.1525],\n",
              "        [1.1556],\n",
              "        [1.1587],\n",
              "        [1.1617],\n",
              "        [1.1648],\n",
              "        [1.1679],\n",
              "        [1.1709],\n",
              "        [1.1740],\n",
              "        [1.1771],\n",
              "        [1.1801],\n",
              "        [1.1832],\n",
              "        [1.1863],\n",
              "        [1.1893],\n",
              "        [1.1924],\n",
              "        [1.1955],\n",
              "        [1.1985],\n",
              "        [1.2016],\n",
              "        [1.2047]], device='cuda:0')"
            ]
          },
          "metadata": {},
          "execution_count": 290
        }
      ]
    },
    {
      "cell_type": "code",
      "source": [
        "# By replacing cpu with torch.device('cpu'),\n",
        "# you explicitly tell PyTorch to move the tensor to the CPU device.\n",
        "# This will resolve any NameError and allow the comparison to proceed correctly.\n",
        "y_preds.cpu() == y_preds.cuda().to(torch.device('cpu'))"
      ],
      "metadata": {
        "colab": {
          "base_uri": "https://localhost:8080/"
        },
        "id": "TnCdLd47wcLH",
        "outputId": "401109f6-2a2a-432c-fe12-e931fcfaaf62"
      },
      "execution_count": 291,
      "outputs": [
        {
          "output_type": "execute_result",
          "data": {
            "text/plain": [
              "tensor([[True],\n",
              "        [True],\n",
              "        [True],\n",
              "        [True],\n",
              "        [True],\n",
              "        [True],\n",
              "        [True],\n",
              "        [True],\n",
              "        [True],\n",
              "        [True],\n",
              "        [True],\n",
              "        [True],\n",
              "        [True],\n",
              "        [True],\n",
              "        [True],\n",
              "        [True],\n",
              "        [True],\n",
              "        [True],\n",
              "        [True],\n",
              "        [True]])"
            ]
          },
          "metadata": {},
          "execution_count": 291
        }
      ]
    },
    {
      "cell_type": "code",
      "source": [
        "# DOn't forget to move the y_preds to the cpu before using any plotting libraries\n",
        "plot_predictions(predictions=y_preds.to(torch.device('cpu')))"
      ],
      "metadata": {
        "colab": {
          "base_uri": "https://localhost:8080/",
          "height": 599
        },
        "id": "flsXu66nmvsg",
        "outputId": "9c16b732-3cec-4cb5-f522-f951f1df615a"
      },
      "execution_count": 292,
      "outputs": [
        {
          "output_type": "display_data",
          "data": {
            "text/plain": [
              "<Figure size 1000x700 with 1 Axes>"
            ],
            "image/png": "[encoded data removed]"
          },
          "metadata": {}
        }
      ]
    },
    {
      "cell_type": "markdown",
      "source": [
        "## Q5. Save your trained model's state_dict() to file.\n",
        "\n",
        "- Create a new instance of your model class you made in 2. and load in the state_dict() you just saved to it.\n",
        "\n",
        "- Perform predictions on your test data with the loaded model and confirm they match the original model predictions from 4."
      ],
      "metadata": {
        "id": "xldcl4qVmzzB"
      }
    },
    {
      "cell_type": "code",
      "source": [
        "from pathlib import Path\n",
        "\n",
        "# 1. Create models directory\n",
        "MODEL_PATH = Path(\"models\")\n",
        "MODEL_PATH.mkdir(parents=True, exist_ok=True)\n",
        "\n",
        "# 2. Create model save path\n",
        "MODEL_NAME = \"01_pytorch_model_2\"\n",
        "MODEL_SAVE_PATH = MODEL_PATH / MODEL_NAME\n",
        "\n",
        "# 3. Save the model state dict\n",
        "print(f\"Saving model to: {MODEL_SAVE_PATH}\")\n",
        "torch.save(obj=model_1.state_dict(), # only saving the state_dict() only saves the models learned parameters\n",
        "           f=MODEL_SAVE_PATH)"
      ],
      "metadata": {
        "colab": {
          "base_uri": "https://localhost:8080/"
        },
        "id": "pZ_1v2PUmv03",
        "outputId": "05169726-11ff-4b95-c24e-7c057d356395"
      },
      "execution_count": 293,
      "outputs": [
        {
          "output_type": "stream",
          "name": "stdout",
          "text": [
            "Saving model to: models/01_pytorch_model_2\n"
          ]
        }
      ]
    },
    {
      "cell_type": "code",
      "source": [
        "# Check the saved file path\n",
        "!ls -l models/"
      ],
      "metadata": {
        "colab": {
          "base_uri": "https://localhost:8080/"
        },
        "id": "NJoSh1VRntCg",
        "outputId": "04cd67ae-3e88-4b87-f4e5-dc47ffb11364"
      },
      "execution_count": 294,
      "outputs": [
        {
          "output_type": "stream",
          "name": "stdout",
          "text": [
            "total 4\n",
            "-rw-r--r-- 1 root root 1562 Feb  1 09:19 01_pytorch_model_2\n"
          ]
        }
      ]
    },
    {
      "cell_type": "code",
      "source": [
        "# Instantiate a new instance of our model (this will be instantiated with random weights)\n",
        "# Create a new instance of the model\n",
        "model_2 = LinearRegressionModel()\n",
        "\n",
        "\n",
        "# Create new instance of model and load saved state dict (make sure to put it on the target device)\n",
        "loaded_model_2.load_state_dict(torch.load(f=MODEL_SAVE_PATH))\n",
        "\n",
        "# # Load the state_dict of our saved model (this will update the new instance of our model with trained weights)\n",
        "# loaded_model_2.load_state_dict(torch.load(f=MODEL_SAVE_PATH))\n",
        "\n"
      ],
      "metadata": {
        "colab": {
          "base_uri": "https://localhost:8080/"
        },
        "id": "Bn0c0uvQnuFz",
        "outputId": "1c99b2a3-4d20-4e31-b88a-4baa1cd8e6b3"
      },
      "execution_count": 295,
      "outputs": [
        {
          "output_type": "stream",
          "name": "stderr",
          "text": [
            "<ipython-input-295-70f0015961b5>:7: FutureWarning: You are using `torch.load` with `weights_only=False` (the current default value), which uses the default pickle module implicitly. It is possible to construct malicious pickle data which will execute arbitrary code during unpickling (See https://github.com/pytorch/pytorch/blob/main/SECURITY.md#untrusted-models for more details). In a future release, the default value for `weights_only` will be flipped to `True`. This limits the functions that could be executed during unpickling. Arbitrary objects will no longer be allowed to be loaded via this mode unless they are explicitly allowlisted by the user via `torch.serialization.add_safe_globals`. We recommend you start setting `weights_only=True` for any use case where you don't have full control of the loaded file. Please open an issue on GitHub for any issues related to this experimental feature.\n",
            "  loaded_model_2.load_state_dict(torch.load(f=MODEL_SAVE_PATH))\n"
          ]
        },
        {
          "output_type": "execute_result",
          "data": {
            "text/plain": [
              "<All keys matched successfully>"
            ]
          },
          "metadata": {},
          "execution_count": 295
        }
      ]
    },
    {
      "cell_type": "code",
      "source": [
        "# # Save the newly loaded model to the device\n",
        "# loaded_model_2.to(device)"
      ],
      "metadata": {
        "id": "JoTSwNkEzzdZ"
      },
      "execution_count": 296,
      "outputs": []
    },
    {
      "cell_type": "code",
      "source": [
        "# Make Predictions with the loaded model\n",
        "# 1. Set the model in evaluation mode\n",
        "loaded_model_2.eval()\n",
        "\n",
        "# Move the model to the target device (GPU if available)\n",
        "loaded_model_2.to(device)\n",
        "\n",
        "# Move the test data to the target device (GPU if available)\n",
        "X_test = X_test.to(device)\n",
        "\n",
        "# 2. Setup the inference mode context manager\n",
        "with torch.inference_mode():\n",
        "  # 3. Make sure the calculations are done with the model and data on the same device\n",
        "  y_preds_loaded = loaded_model_2(X_test)\n",
        "\n",
        "# Move predictions back to CPU if needed (e.g., for plotting with matplotlib)\n",
        "y_preds_loaded = y_preds.cpu()\n",
        "\n",
        "y_preds_loaded"
      ],
      "metadata": {
        "colab": {
          "base_uri": "https://localhost:8080/"
        },
        "id": "IdshnzAkodgv",
        "outputId": "e78265a9-4a26-4cdc-bf55-3d7c25bc2cd3"
      },
      "execution_count": 297,
      "outputs": [
        {
          "output_type": "execute_result",
          "data": {
            "text/plain": [
              "tensor([[1.1464],\n",
              "        [1.1495],\n",
              "        [1.1525],\n",
              "        [1.1556],\n",
              "        [1.1587],\n",
              "        [1.1617],\n",
              "        [1.1648],\n",
              "        [1.1679],\n",
              "        [1.1709],\n",
              "        [1.1740],\n",
              "        [1.1771],\n",
              "        [1.1801],\n",
              "        [1.1832],\n",
              "        [1.1863],\n",
              "        [1.1893],\n",
              "        [1.1924],\n",
              "        [1.1955],\n",
              "        [1.1985],\n",
              "        [1.2016],\n",
              "        [1.2047]])"
            ]
          },
          "metadata": {},
          "execution_count": 297
        }
      ]
    },
    {
      "cell_type": "code",
      "source": [
        "# Compare the new predictions to the old one\n",
        "y_preds.to(torch.device('cpu')) == y_preds_loaded"
      ],
      "metadata": {
        "colab": {
          "base_uri": "https://localhost:8080/"
        },
        "id": "L4kY4yLGop86",
        "outputId": "fc65c7d1-4484-467d-8ef6-23016a9e7bb2"
      },
      "execution_count": 298,
      "outputs": [
        {
          "output_type": "execute_result",
          "data": {
            "text/plain": [
              "tensor([[True],\n",
              "        [True],\n",
              "        [True],\n",
              "        [True],\n",
              "        [True],\n",
              "        [True],\n",
              "        [True],\n",
              "        [True],\n",
              "        [True],\n",
              "        [True],\n",
              "        [True],\n",
              "        [True],\n",
              "        [True],\n",
              "        [True],\n",
              "        [True],\n",
              "        [True],\n",
              "        [True],\n",
              "        [True],\n",
              "        [True],\n",
              "        [True]])"
            ]
          },
          "metadata": {},
          "execution_count": 298
        }
      ]
    },
    {
      "cell_type": "code",
      "source": [
        "# Check the state dict of the newly created loaded model\n",
        "loaded_model_2.state_dict()"
      ],
      "metadata": {
        "colab": {
          "base_uri": "https://localhost:8080/"
        },
        "id": "ILhWf-Sz0Tur",
        "outputId": "82fe7b48-a2c0-4090-8d27-bc18d7326187"
      },
      "execution_count": 299,
      "outputs": [
        {
          "output_type": "execute_result",
          "data": {
            "text/plain": [
              "OrderedDict([('weights', tensor([0.3067], device='cuda:0')),\n",
              "             ('bias', tensor([0.9011], device='cuda:0'))])"
            ]
          },
          "metadata": {},
          "execution_count": 299
        }
      ]
    }
  ]
}
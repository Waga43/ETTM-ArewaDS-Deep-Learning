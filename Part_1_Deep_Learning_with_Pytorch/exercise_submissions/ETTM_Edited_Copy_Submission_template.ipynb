{
 "cells": [
  {
   "cell_type": "markdown",
   "metadata": {},
   "source": [
    "## Arewa Data Science Academy\n",
    "### Deep Learning Cohort1.0\n",
    "\n",
    "#### Name: Abdulwasiu Bamidele Popoola\n",
    "#### Email: waga43tech@gmail.com\n",
    "#### Title: Week 1 Solution"
   ]
  },
  {
   "cell_type": "markdown",
   "metadata": {},
   "source": [
    "### Exercises Solution"
   ]
  },
  {
   "cell_type": "code",
   "execution_count": null,
   "metadata": {},
   "outputs": [],
   "source": [
    "# Exercise 1a- Solution\n",
    "a = torch.tensor([1, 2])\n"
   ]
  },
  {
   "cell_type": "markdown",
   "metadata": {},
   "source": [
    "### Additional Exercises Solution"
   ]
  },
  {
   "cell_type": "code",
   "execution_count": null,
   "metadata": {},
   "outputs": [],
   "source": []
  }
 ],
 "metadata": {
  "language_info": {
   "name": "python"
  }
 },
 "nbformat": 4,
 "nbformat_minor": 2
}

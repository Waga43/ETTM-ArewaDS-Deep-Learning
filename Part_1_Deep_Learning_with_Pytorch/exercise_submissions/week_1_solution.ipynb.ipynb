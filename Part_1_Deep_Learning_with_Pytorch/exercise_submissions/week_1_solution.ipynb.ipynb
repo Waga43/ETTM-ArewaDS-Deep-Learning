{
 "cells": [
  {
   "cell_type": "markdown",
   "metadata": {},
   "source": [
    "## Arewa Data Science Academy\n",
    "### Deep Learning Cohort1.0\n",
    "\n",
    "#### Name: Abdulwasiu Bamidele Popoola\n",
    "#### Email: waga43tech@gmail.com\n",
    "#### Title: Week 1 Solution"
   ]
  },
  {
   "cell_type": "markdown",
   "metadata": {},
   "source": [
    "### Exercises Solution"
   ]
  },
  {
   "cell_type": "code",
   "execution_count": 9,
   "metadata": {},
   "outputs": [],
   "source": [
    "# To show all outputs in the cell\n",
    "from IPython.core.interactiveshell import InteractiveShell\n",
    "InteractiveShell.ast_node_interactivity = \"all\"\n"
   ]
  },
  {
   "cell_type": "code",
   "execution_count": 149,
   "metadata": {},
   "outputs": [
    {
     "data": {
      "text/plain": [
       "'2.5.1'"
      ]
     },
     "execution_count": 149,
     "metadata": {},
     "output_type": "execute_result"
    }
   ],
   "source": [
    "import torch\n",
    "import random\n",
    "torch.__version__\n"
   ]
  },
  {
   "cell_type": "code",
   "execution_count": 2,
   "metadata": {},
   "outputs": [],
   "source": [
    "# Exercise 1a- Solution\n",
    "a = torch.tensor([1, 2])\n"
   ]
  },
  {
   "cell_type": "markdown",
   "metadata": {},
   "source": [
    "### Additional Exercises Solution"
   ]
  },
  {
   "cell_type": "code",
   "execution_count": 3,
   "metadata": {},
   "outputs": [
    {
     "name": "stdout",
     "output_type": "stream",
     "text": [
      "<class 'torch.Tensor'>\n"
     ]
    }
   ],
   "source": [
    "print(type(a))\n"
   ]
  },
  {
   "cell_type": "markdown",
   "metadata": {},
   "source": [
    "### Q1: Documentation Reading\n",
    "\n",
    "<mark>Done</mark>"
   ]
  },
  {
   "cell_type": "markdown",
   "metadata": {},
   "source": [
    "####"
   ]
  },
  {
   "cell_type": "markdown",
   "metadata": {},
   "source": [
    "### Q2: Create a random tensor with shape (7, 7)."
   ]
  },
  {
   "cell_type": "code",
   "execution_count": 159,
   "metadata": {},
   "outputs": [
    {
     "data": {
      "text/plain": [
       "tensor([[0.1957, 0.9537, 0.8426, 0.0784, 0.3756, 0.5226, 0.5730],\n",
       "        [0.6186, 0.6962, 0.5300, 0.2560, 0.7366, 0.0204, 0.2036],\n",
       "        [0.3748, 0.2564, 0.3251, 0.0902, 0.3936, 0.6069, 0.1743],\n",
       "        [0.4743, 0.8579, 0.4486, 0.5139, 0.4569, 0.6012, 0.8179],\n",
       "        [0.9736, 0.8175, 0.9747, 0.4638, 0.0508, 0.2630, 0.8405],\n",
       "        [0.4968, 0.2515, 0.1168, 0.0321, 0.0780, 0.3986, 0.7742],\n",
       "        [0.7703, 0.0178, 0.8119, 0.1087, 0.3943, 0.2973, 0.4037]])"
      ]
     },
     "execution_count": 159,
     "metadata": {},
     "output_type": "execute_result"
    },
    {
     "name": "stdout",
     "output_type": "stream",
     "text": [
      "The shape of random_tensor_1 variable is: torch.Size([7, 7])\n"
     ]
    }
   ],
   "source": [
    "random_tensor_1 = torch.rand(size=(7, 7))\n",
    "random_tensor_1\n",
    "print(f\"The shape of random_tensor_1 variable is: {random_tensor_1.shape}\")\n"
   ]
  },
  {
   "cell_type": "markdown",
   "metadata": {},
   "source": [
    "### Q3: Perform a matrix multiplication on the tensor from 2 with another random tensor with shape (1, 7) (hint: you may have to transpose the second tensor)."
   ]
  },
  {
   "cell_type": "code",
   "execution_count": 160,
   "metadata": {},
   "outputs": [
    {
     "data": {
      "text/plain": [
       "tensor([[0.4018, 0.0513, 0.0683, 0.4218, 0.5065, 0.2729, 0.6883]])"
      ]
     },
     "execution_count": 160,
     "metadata": {},
     "output_type": "execute_result"
    },
    {
     "name": "stdout",
     "output_type": "stream",
     "text": [
      "The shape of random_tensor_2 variable is: torch.Size([1, 7])\n"
     ]
    }
   ],
   "source": [
    "random_tensor_2 = torch.rand(1,7)\n",
    "random_tensor_2\n",
    "print(f\"The shape of random_tensor_2 variable is: {random_tensor_2.shape}\")\n"
   ]
  },
  {
   "cell_type": "code",
   "execution_count": 143,
   "metadata": {},
   "outputs": [],
   "source": [
    "# def matrix_mult(matrix_1=torch.rand(size=(7, 7)), matrix_2=torch.rand(1,7)):\n",
    "#     print(f\"The shape of the Tensor 1:\\t{random_tensor_1.shape}.\\n\"\n",
    "#           f\"\\n{random_tensor_1}\\n\"\n",
    "#           f\"\\nThe shape of Tensor 2:\\t{random_tensor_2.shape}.\\n\"\n",
    "#           f\"{random_tensor_2}\\n\")\n",
    "\n",
    "#     try:\n",
    "#         torch.matmul(random_tensor_1, random_tensor_2)\n",
    "#     except RuntimeError:\n",
    "#         print(f\"Matrix multiplication not possible due to shape mismatch:\\nTensor 1:\\t{random_tensor_1.shape} multiplied by\\nTensor 2:\\t{random_tensor_2.shape}.\\n\")\n",
    "#         print(f\"{'Reshaping':=^70}\")\n",
    "#         print(f\"Solving by reshaping random_tensor_2 from {random_tensor_2.shape} to [7, 1].\")\n",
    "#         random_tensor_2_reshaped = random_tensor_2.reshape(7,1)\n",
    "#         print(f\"Matrix multiplication now possible due to shape match:\\nTensor 1:\\t\\t{random_tensor_1.shape} multiplied by\\nTensor 2 reshaped:\\t{random_tensor_2_reshaped.shape}.\\n\")\n",
    "#         print(f\"The shape of the Tensor 1:\\t{random_tensor_1.shape}.\\n\"\n",
    "#           f\"\\n{random_tensor_1}\\n\"\n",
    "#           f\"\\nThe shape of Tensor 2 reshaped:\\t{random_tensor_2.shape}.\\n\"\n",
    "#           f\"{random_tensor_2_reshaped}\\n\")\n",
    "#         print(f\"{'Printing out the matrix multiplication ⤵️':=^70}\")\n",
    "#         torch.matmul(random_tensor_1, random_tensor_2_reshaped)\n",
    "\n",
    "# matrix_mult()\n"
   ]
  },
  {
   "cell_type": "code",
   "execution_count": 161,
   "metadata": {},
   "outputs": [
    {
     "name": "stdout",
     "output_type": "stream",
     "text": [
      "The shape of the Tensor 1:\ttorch.Size([7, 7]).\n",
      "\n",
      "tensor([[0.1957, 0.9537, 0.8426, 0.0784, 0.3756, 0.5226, 0.5730],\n",
      "        [0.6186, 0.6962, 0.5300, 0.2560, 0.7366, 0.0204, 0.2036],\n",
      "        [0.3748, 0.2564, 0.3251, 0.0902, 0.3936, 0.6069, 0.1743],\n",
      "        [0.4743, 0.8579, 0.4486, 0.5139, 0.4569, 0.6012, 0.8179],\n",
      "        [0.9736, 0.8175, 0.9747, 0.4638, 0.0508, 0.2630, 0.8405],\n",
      "        [0.4968, 0.2515, 0.1168, 0.0321, 0.0780, 0.3986, 0.7742],\n",
      "        [0.7703, 0.0178, 0.8119, 0.1087, 0.3943, 0.2973, 0.4037]])\n",
      "\n",
      "The shape of Tensor 2:\ttorch.Size([1, 7]).\n",
      "tensor([[0.4018, 0.0513, 0.0683, 0.4218, 0.5065, 0.2729, 0.6883]])\n",
      "\n",
      "Matrix multiplication not possible due to shape mismatch:\n",
      "Tensor 1:\ttorch.Size([7, 7]) multiplied by\n",
      "Tensor 2:\ttorch.Size([1, 7]).\n",
      "\n",
      "==============================Reshaping===============================\n",
      "Solving by reshaping random_tensor_2 from torch.Size([1, 7]) to [7, 1].\n",
      "\n",
      "Matrix multiplication now possible due to shape match:\n",
      "Tensor 1:\t\ttorch.Size([7, 7]) multiplied by\n",
      "Tensor 2 reshaped:\ttorch.Size([7, 1]).\n",
      "\n",
      "The shape of the Tensor 1:\ttorch.Size([7, 7]).\n",
      "\n",
      "tensor([[0.1957, 0.9537, 0.8426, 0.0784, 0.3756, 0.5226, 0.5730],\n",
      "        [0.6186, 0.6962, 0.5300, 0.2560, 0.7366, 0.0204, 0.2036],\n",
      "        [0.3748, 0.2564, 0.3251, 0.0902, 0.3936, 0.6069, 0.1743],\n",
      "        [0.4743, 0.8579, 0.4486, 0.5139, 0.4569, 0.6012, 0.8179],\n",
      "        [0.9736, 0.8175, 0.9747, 0.4638, 0.0508, 0.2630, 0.8405],\n",
      "        [0.4968, 0.2515, 0.1168, 0.0321, 0.0780, 0.3986, 0.7742],\n",
      "        [0.7703, 0.0178, 0.8119, 0.1087, 0.3943, 0.2973, 0.4037]])\n",
      "\n",
      "The shape of Tensor 2 reshaped:\ttorch.Size([1, 7]).\n",
      "tensor([[0.4018],\n",
      "        [0.0513],\n",
      "        [0.0683],\n",
      "        [0.4218],\n",
      "        [0.5065],\n",
      "        [0.2729],\n",
      "        [0.6883]])\n",
      "\n",
      "==============Printing out the matrix multiplication ⤵️===============\n"
     ]
    },
    {
     "data": {
      "text/plain": [
       "tensor([[0.9454],\n",
       "        [0.9473],\n",
       "        [0.7089],\n",
       "        [1.4405],\n",
       "        [1.3714],\n",
       "        [0.9152],\n",
       "        [0.9704]])"
      ]
     },
     "execution_count": 161,
     "metadata": {},
     "output_type": "execute_result"
    }
   ],
   "source": [
    "print(f\"The shape of the Tensor 1:\\t{random_tensor_1.shape}.\\n\"\n",
    "          f\"\\n{random_tensor_1}\\n\"\n",
    "          f\"\\nThe shape of Tensor 2:\\t{random_tensor_2.shape}.\\n\"\n",
    "          f\"{random_tensor_2}\\n\")\n",
    "\n",
    "try:\n",
    "    torch.matmul(random_tensor_1, random_tensor_2)\n",
    "except RuntimeError:\n",
    "    print(f\"Matrix multiplication not possible due to shape mismatch:\\nTensor 1:\\t{random_tensor_1.shape} multiplied by\\nTensor 2:\\t{random_tensor_2.shape}.\\n\")\n",
    "    print(f\"{'Reshaping':=^70}\")\n",
    "    print(f\"Solving by reshaping random_tensor_2 from {random_tensor_2.shape} to [7, 1].\")\n",
    "    random_tensor_2_reshaped = random_tensor_2.reshape(7,1)\n",
    "    print(f\"\\nMatrix multiplication now possible due to shape match:\\nTensor 1:\\t\\t{random_tensor_1.shape} multiplied by\\nTensor 2 reshaped:\\t{random_tensor_2_reshaped.shape}.\\n\")\n",
    "    print(f\"The shape of the Tensor 1:\\t{random_tensor_1.shape}.\\n\"\n",
    "        f\"\\n{random_tensor_1}\\n\"\n",
    "        f\"\\nThe shape of Tensor 2 reshaped:\\t{random_tensor_2.shape}.\\n\"\n",
    "        f\"{random_tensor_2_reshaped}\\n\")\n",
    "    print(f\"{'Printing out the matrix multiplication ⤵️':=^70}\")\n",
    "    torch.matmul(random_tensor_1, random_tensor_2_reshaped)\n"
   ]
  },
  {
   "cell_type": "markdown",
   "metadata": {},
   "source": [
    "### Q3: Set the random seed to 0 and do exercises 2 & 3 over again."
   ]
  },
  {
   "cell_type": "code",
   "execution_count": 184,
   "metadata": {},
   "outputs": [
    {
     "name": "stdout",
     "output_type": "stream",
     "text": [
      "\n",
      "===================Setting random seed using Torch====================\n",
      "\n"
     ]
    },
    {
     "data": {
      "text/plain": [
       "<torch._C.Generator at 0x1ffee0949f0>"
      ]
     },
     "execution_count": 184,
     "metadata": {},
     "output_type": "execute_result"
    },
    {
     "name": "stdout",
     "output_type": "stream",
     "text": [
      "The shape of the Tensor 1:\ttorch.Size([7, 7]).\n",
      "\n",
      "tensor([[0.4963, 0.7682, 0.0885, 0.1320, 0.3074, 0.6341, 0.4901],\n",
      "        [0.8964, 0.4556, 0.6323, 0.3489, 0.4017, 0.0223, 0.1689],\n",
      "        [0.2939, 0.5185, 0.6977, 0.8000, 0.1610, 0.2823, 0.6816],\n",
      "        [0.9152, 0.3971, 0.8742, 0.4194, 0.5529, 0.9527, 0.0362],\n",
      "        [0.1852, 0.3734, 0.3051, 0.9320, 0.1759, 0.2698, 0.1507],\n",
      "        [0.0317, 0.2081, 0.9298, 0.7231, 0.7423, 0.5263, 0.2437],\n",
      "        [0.5846, 0.0332, 0.1387, 0.2422, 0.8155, 0.7932, 0.2783]])\n",
      "\n",
      "The shape of Tensor 2:\ttorch.Size([1, 7]).\n",
      "tensor([[0.4820, 0.8198, 0.9971, 0.6984, 0.5675, 0.8352, 0.2056]])\n",
      "\n",
      "Matrix multiplication not possible due to shape mismatch:\n",
      "Tensor 1:\ttorch.Size([7, 7]) multiplied by\n",
      "Tensor 2:\ttorch.Size([1, 7]).\n",
      "\n",
      "==============================Reshaping===============================\n",
      "Solving by reshaping random_tensor_2 from torch.Size([1, 7]) to [7, 1].\n",
      "\n",
      "Matrix multiplication now possible due to shape match:\n",
      "Tensor 1:\t\ttorch.Size([7, 7]) multiplied by\n",
      "Tensor 2 reshaped:\ttorch.Size([7, 1]).\n",
      "\n",
      "The shape of the Tensor 1:\ttorch.Size([7, 7]).\n",
      "\n",
      "tensor([[0.4963, 0.7682, 0.0885, 0.1320, 0.3074, 0.6341, 0.4901],\n",
      "        [0.8964, 0.4556, 0.6323, 0.3489, 0.4017, 0.0223, 0.1689],\n",
      "        [0.2939, 0.5185, 0.6977, 0.8000, 0.1610, 0.2823, 0.6816],\n",
      "        [0.9152, 0.3971, 0.8742, 0.4194, 0.5529, 0.9527, 0.0362],\n",
      "        [0.1852, 0.3734, 0.3051, 0.9320, 0.1759, 0.2698, 0.1507],\n",
      "        [0.0317, 0.2081, 0.9298, 0.7231, 0.7423, 0.5263, 0.2437],\n",
      "        [0.5846, 0.0332, 0.1387, 0.2422, 0.8155, 0.7932, 0.2783]])\n",
      "\n",
      "The shape of Tensor 2 reshaped:\ttorch.Size([1, 7]).\n",
      "tensor([[0.4820],\n",
      "        [0.8198],\n",
      "        [0.9971],\n",
      "        [0.6984],\n",
      "        [0.5675],\n",
      "        [0.8352],\n",
      "        [0.2056]])\n",
      "\n",
      "==============Printing out the matrix multiplication ⤵️===============\n"
     ]
    },
    {
     "data": {
      "text/plain": [
       "tensor([[1.8542],\n",
       "        [1.9611],\n",
       "        [2.2884],\n",
       "        [3.0481],\n",
       "        [1.7067],\n",
       "        [2.5290],\n",
       "        [1.7989]])"
      ]
     },
     "execution_count": 184,
     "metadata": {},
     "output_type": "execute_result"
    }
   ],
   "source": [
    "print(f\"\\n{'Setting random seed using Torch':=^70}\\n\")\n",
    "\n",
    "random_seed = 0\n",
    "torch.manual_seed(seed=random_seed)\n",
    "random_tensor_1 = torch.rand(7,7)\n",
    "random_tensor_2 = torch.rand(1,7)\n",
    "random_tensor_2_reshaped = torch.reshape(random_tensor_2,(7,1))\n",
    "\n",
    "print(f\"The shape of the Tensor 1:\\t{random_tensor_1.shape}.\\n\"\n",
    "          f\"\\n{random_tensor_1}\\n\"\n",
    "          f\"\\nThe shape of Tensor 2:\\t{random_tensor_2.shape}.\\n\"\n",
    "          f\"{random_tensor_2}\\n\")\n",
    "\n",
    "try:\n",
    "    torch.matmul(random_tensor_1, random_tensor_2)\n",
    "except RuntimeError:\n",
    "    print(f\"Matrix multiplication not possible due to shape mismatch:\\nTensor 1:\\t{random_tensor_1.shape} multiplied by\\nTensor 2:\\t{random_tensor_2.shape}.\\n\")\n",
    "    print(f\"{'Reshaping':=^70}\")\n",
    "    print(f\"Solving by reshaping random_tensor_2 from {random_tensor_2.shape} to [7, 1].\")\n",
    "    random_tensor_2_reshaped = random_tensor_2.reshape(7,1)\n",
    "    print(f\"\\nMatrix multiplication now possible due to shape match:\\nTensor 1:\\t\\t{random_tensor_1.shape} multiplied by\\nTensor 2 reshaped:\\t{random_tensor_2_reshaped.shape}.\\n\")\n",
    "    print(f\"The shape of the Tensor 1:\\t{random_tensor_1.shape}.\\n\"\n",
    "        f\"\\n{random_tensor_1}\\n\"\n",
    "        f\"\\nThe shape of Tensor 2 reshaped:\\t{random_tensor_2.shape}.\\n\"\n",
    "        f\"{random_tensor_2_reshaped}\\n\")\n",
    "    print(f\"{'Printing out the matrix multiplication ⤵️':=^70}\")\n",
    "    torch.matmul(random_tensor_1, random_tensor_2_reshaped)\n",
    "\n"
   ]
  },
  {
   "cell_type": "markdown",
   "metadata": {},
   "source": [
    "### Q4: Speaking of random seeds, we saw how to set it with torch.manual_seed() but is there a GPU equivalent? (hint: you'll need to look into the documentation for torch.cuda for this one). If there is, set the GPU random seed to 1234."
   ]
  },
  {
   "cell_type": "code",
   "execution_count": 196,
   "metadata": {},
   "outputs": [
    {
     "name": "stdout",
     "output_type": "stream",
     "text": [
      "GPU is unavailable for use on this PC\n"
     ]
    }
   ],
   "source": [
    "#help(torch.cuda)\n",
    "# Check to see if my PC supports/has GPU\n",
    "if torch.cuda.is_available == True:\n",
    "    print(\"GPU is available for usage\")\n",
    "else:\n",
    "    print(\"GPU is unavailable for use on this PC\")\n",
    "\n",
    "# random_tensor_1.device\n",
    "#torch.cuda.is_available()\n",
    "# torch.cuda.device_count()\n",
    "# device = 'CPU is available for use' if torch.cuda.is_available() == False else 'GPU is available for use'\n",
    "# device\n"
   ]
  },
  {
   "cell_type": "markdown",
   "metadata": {},
   "source": [
    "According to the documentation:\n",
    "\n",
    "> It's safe to call this function if CUDA is not available; in that case, it is silently ignored.\n",
    ">\n",
    "> manual_seed(seed: int) -> None\n",
    "> \n",
    "> Set the seed for generating random numbers for the current GPU.\n",
    ">\n",
    "> **.. warning::**\n",
    "    If you are working with a multi-GPU model, this function is insufficient to get determinism.\n",
    ">\n",
    "> To seed all GPUs, use :func:`manual_seed_all`."
   ]
  },
  {
   "cell_type": "code",
   "execution_count": 186,
   "metadata": {},
   "outputs": [
    {
     "name": "stdout",
     "output_type": "stream",
     "text": [
      "\n",
      "====================Setting random seed using GPU=====================\n",
      "\n",
      "The shape of the Tensor 1:\ttorch.Size([7, 7]).\n",
      "\n",
      "tensor([[0.5932, 0.1123, 0.1535, 0.2417, 0.7262, 0.7011, 0.2038],\n",
      "        [0.6511, 0.7745, 0.4369, 0.5191, 0.6159, 0.8102, 0.9801],\n",
      "        [0.1147, 0.3168, 0.6965, 0.9143, 0.9351, 0.9412, 0.5995],\n",
      "        [0.0652, 0.5460, 0.1872, 0.0340, 0.9442, 0.8802, 0.0012],\n",
      "        [0.5936, 0.4158, 0.4177, 0.2711, 0.6923, 0.2038, 0.6833],\n",
      "        [0.7529, 0.8579, 0.6870, 0.0051, 0.1757, 0.7497, 0.6047],\n",
      "        [0.1100, 0.2121, 0.9704, 0.8369, 0.2820, 0.3742, 0.0237]])\n",
      "\n",
      "The shape of Tensor 2:\ttorch.Size([1, 7]).\n",
      "tensor([[0.4910, 0.1235, 0.1143, 0.4725, 0.5751, 0.2952, 0.7967]])\n",
      "\n",
      "Matrix multiplication not possible due to shape mismatch:\n",
      "Tensor 1:\ttorch.Size([7, 7]) multiplied by\n",
      "Tensor 2:\ttorch.Size([1, 7]).\n",
      "\n",
      "==============================Reshaping===============================\n",
      "Solving by reshaping random_tensor_2 from torch.Size([1, 7]) to [7, 1].\n",
      "\n",
      "Matrix multiplication now possible due to shape match:\n",
      "Tensor 1:\t\ttorch.Size([7, 7]) multiplied by\n",
      "Tensor 2 reshaped:\ttorch.Size([7, 1]).\n",
      "\n",
      "The shape of the Tensor 1:\ttorch.Size([7, 7]).\n",
      "\n",
      "tensor([[0.5932, 0.1123, 0.1535, 0.2417, 0.7262, 0.7011, 0.2038],\n",
      "        [0.6511, 0.7745, 0.4369, 0.5191, 0.6159, 0.8102, 0.9801],\n",
      "        [0.1147, 0.3168, 0.6965, 0.9143, 0.9351, 0.9412, 0.5995],\n",
      "        [0.0652, 0.5460, 0.1872, 0.0340, 0.9442, 0.8802, 0.0012],\n",
      "        [0.5936, 0.4158, 0.4177, 0.2711, 0.6923, 0.2038, 0.6833],\n",
      "        [0.7529, 0.8579, 0.6870, 0.0051, 0.1757, 0.7497, 0.6047],\n",
      "        [0.1100, 0.2121, 0.9704, 0.8369, 0.2820, 0.3742, 0.0237]])\n",
      "\n",
      "The shape of Tensor 2 reshaped:\ttorch.Size([1, 7]).\n",
      "tensor([[0.4910],\n",
      "        [0.1235],\n",
      "        [0.1143],\n",
      "        [0.4725],\n",
      "        [0.5751],\n",
      "        [0.2952],\n",
      "        [0.7967]])\n",
      "\n",
      "==============Printing out the matrix multiplication ⤵️===============\n"
     ]
    },
    {
     "data": {
      "text/plain": [
       "tensor([[1.2239],\n",
       "        [2.0847],\n",
       "        [1.9002],\n",
       "        [0.9408],\n",
       "        [1.5213],\n",
       "        [1.3606],\n",
       "        [0.8780]])"
      ]
     },
     "execution_count": 186,
     "metadata": {},
     "output_type": "execute_result"
    }
   ],
   "source": [
    "print(f\"\\n{'Setting random seed using GPU':=^70}\\n\")\n",
    "random_seed = 1234\n",
    "torch.cuda.manual_seed(seed=random_seed)\n",
    "random_tensor_1 = torch.rand(7,7)\n",
    "random_tensor_2 = torch.rand(1,7)\n",
    "random_tensor_2_reshaped = torch.reshape(random_tensor_2,(7,1))\n",
    "\n",
    "print(f\"The shape of the Tensor 1:\\t{random_tensor_1.shape}.\\n\"\n",
    "          f\"\\n{random_tensor_1}\\n\"\n",
    "          f\"\\nThe shape of Tensor 2:\\t{random_tensor_2.shape}.\\n\"\n",
    "          f\"{random_tensor_2}\\n\")\n",
    "\n",
    "try:\n",
    "    torch.matmul(random_tensor_1, random_tensor_2)\n",
    "except RuntimeError:\n",
    "    print(f\"Matrix multiplication not possible due to shape mismatch:\\nTensor 1:\\t{random_tensor_1.shape} multiplied by\\nTensor 2:\\t{random_tensor_2.shape}.\\n\")\n",
    "    print(f\"{'Reshaping':=^70}\")\n",
    "    print(f\"Solving by reshaping random_tensor_2 from {random_tensor_2.shape} to [7, 1].\")\n",
    "    random_tensor_2_reshaped = random_tensor_2.reshape(7,1)\n",
    "    print(f\"\\nMatrix multiplication now possible due to shape match:\\nTensor 1:\\t\\t{random_tensor_1.shape} multiplied by\\nTensor 2 reshaped:\\t{random_tensor_2_reshaped.shape}.\\n\")\n",
    "    print(f\"The shape of the Tensor 1:\\t{random_tensor_1.shape}.\\n\"\n",
    "        f\"\\n{random_tensor_1}\\n\"\n",
    "        f\"\\nThe shape of Tensor 2 reshaped:\\t{random_tensor_2.shape}.\\n\"\n",
    "        f\"{random_tensor_2_reshaped}\\n\")\n",
    "    print(f\"{'Printing out the matrix multiplication ⤵️':=^70}\")\n",
    "    torch.matmul(random_tensor_1, random_tensor_2_reshaped)\n",
    "\n"
   ]
  },
  {
   "cell_type": "markdown",
   "metadata": {},
   "source": [
    "### Q6: Create two random tensors of shape (2, 3) and send them both to the GPU (you'll need access to a GPU for this). Set torch.manual_seed(1234) when creating the tensors (this doesn't have to be the GPU random seed)."
   ]
  },
  {
   "cell_type": "code",
   "execution_count": 276,
   "metadata": {},
   "outputs": [
    {
     "data": {
      "text/plain": [
       "<torch._C.Generator at 0x1ffee0949f0>"
      ]
     },
     "execution_count": 276,
     "metadata": {},
     "output_type": "execute_result"
    },
    {
     "name": "stdout",
     "output_type": "stream",
     "text": [
      "tensor([[0.0290, 0.4019, 0.2598],\n",
      "        [0.3666, 0.0583, 0.7006]])\n",
      "Device Type:\tcpu\n",
      "\n",
      "tensor([[0.0518, 0.4681, 0.6738],\n",
      "        [0.3315, 0.7837, 0.5631]])\n",
      "Device Type:\tcpu\n"
     ]
    }
   ],
   "source": [
    "if torch.cuda.is_available():\n",
    "    device = \"cuda\" # Use NVIDIA GPU (if available)\n",
    "elif torch.backends.mps.is_available():\n",
    "    device = \"mps\" # Use Apple Silicon GPU (if available)\n",
    "else:\n",
    "    device = \"cpu\" # Default to CPU if no GPU is available\n",
    "\n",
    "torch.manual_seed(1234)\n",
    "random_tensor_3 = torch.rand(2,3)\n",
    "random_tensor_4 = torch.rand(2,3)\n",
    "\n",
    "device_random_tensor_3 = random_tensor_3.to(device)\n",
    "device_random_tensor_4 = random_tensor_4.to(device)\n",
    "\n",
    "print(f\"{device_random_tensor_3}\\nDevice Type:\\t{device_random_tensor_3.device}\\n\")\n",
    "print(f\"{device_random_tensor_4}\\nDevice Type:\\t{device_random_tensor_4.device}\")\n"
   ]
  },
  {
   "cell_type": "markdown",
   "metadata": {},
   "source": [
    "### Q7: Perform a matrix multiplication on the tensors you created in 6 (again, you may have to adjust the shapes of one of the tensors)."
   ]
  },
  {
   "cell_type": "code",
   "execution_count": 270,
   "metadata": {},
   "outputs": [
    {
     "name": "stdout",
     "output_type": "stream",
     "text": [
      "\n",
      "======================Using random seed of 1234=======================\n",
      "\n",
      "The shape of the Tensor 3:\ttorch.Size([2, 3]).\n",
      "\n",
      "tensor([[0.0290, 0.4019, 0.2598],\n",
      "        [0.3666, 0.0583, 0.7006]])\n",
      "\n",
      "The shape of Tensor 4:\ttorch.Size([2, 3]).\n",
      "tensor([[0.0518, 0.4681, 0.6738],\n",
      "        [0.3315, 0.7837, 0.5631]])\n",
      "\n",
      "Matrix multiplication not possible due to shape mismatch:\n",
      "Tensor 3:\ttorch.Size([2, 3]) multiplied by\n",
      "Tensor 4:\ttorch.Size([2, 3]).\n",
      "\n",
      "==============================Reshaping===============================\n",
      "Solving by reshaping device_random_tensor_4 from torch.Size([2, 3]) to [3, 2].\n",
      "\n",
      "Matrix multiplication now possible due to shape match:\n",
      "Tensor 3:\t\ttorch.Size([2, 3]) multiplied by\n",
      "Tensor 4 reshaped:\ttorch.Size([3, 2]).\n",
      "\n",
      "The shape of the Tensor 3:\ttorch.Size([2, 3]).\n",
      "\n",
      "tensor([[0.0290, 0.4019, 0.2598],\n",
      "        [0.3666, 0.0583, 0.7006]])\n",
      "\n",
      "The shape of Tensor 4 reshaped:\ttorch.Size([3, 2]).\n",
      "tensor([[0.0518, 0.4681],\n",
      "        [0.6738, 0.3315],\n",
      "        [0.7837, 0.5631]])\n",
      "\n",
      "==============Printing out the matrix multiplication ⤵️===============\n"
     ]
    },
    {
     "data": {
      "text/plain": [
       "tensor([[0.4759, 0.2931],\n",
       "        [0.6074, 0.5855]])"
      ]
     },
     "execution_count": 270,
     "metadata": {},
     "output_type": "execute_result"
    }
   ],
   "source": [
    "print(f\"\\n{'Using random seed of 1234':=^70}\\n\")\n",
    "\n",
    "device_random_tensor_4_reshaped = torch.reshape(device_random_tensor_4,(3, 2))\n",
    "\n",
    "print(f\"The shape of the Tensor 3:\\t{device_random_tensor_3.shape}.\\n\"\n",
    "          f\"\\n{device_random_tensor_3}\\n\"\n",
    "          f\"\\nThe shape of Tensor 4:\\t{device_random_tensor_4.shape}.\\n\"\n",
    "          f\"{device_random_tensor_4}\\n\")\n",
    "\n",
    "try:\n",
    "    torch.mm(device_random_tensor_3, device_random_tensor_4)\n",
    "except RuntimeError:\n",
    "    print(f\"Matrix multiplication not possible due to shape mismatch:\\nTensor 3:\\t{device_random_tensor_3.shape} multiplied by\\nTensor 4:\\t{device_random_tensor_4.shape}.\\n\")\n",
    "    print(f\"{'Reshaping':=^70}\")\n",
    "    print(f\"Solving by reshaping device_random_tensor_4 from {device_random_tensor_4.shape} to [3, 2].\")\n",
    "    device_random_tensor_4_reshaped = device_random_tensor_4.reshape(3, 2)\n",
    "    print(f\"\\nMatrix multiplication now possible due to shape match:\\nTensor 3:\\t\\t{device_random_tensor_3.shape} multiplied by\\nTensor 4 reshaped:\\t{device_random_tensor_4_reshaped.shape}.\\n\")\n",
    "    print(f\"The shape of the Tensor 3:\\t{device_random_tensor_3.shape}.\\n\"\n",
    "        f\"\\n{device_random_tensor_3}\\n\"\n",
    "        f\"\\nThe shape of Tensor 4 reshaped:\\t{device_random_tensor_4_reshaped.shape}.\\n\"\n",
    "        f\"{device_random_tensor_4_reshaped}\\n\")\n",
    "    print(f\"{'Printing out the matrix multiplication ⤵️':=^70}\")\n",
    "    output = torch.matmul(device_random_tensor_3, device_random_tensor_4_reshaped)\n",
    "    output\n"
   ]
  },
  {
   "cell_type": "markdown",
   "metadata": {},
   "source": [
    "### Q8: Find the maximum and minimum values of the output of 7."
   ]
  },
  {
   "cell_type": "code",
   "execution_count": 222,
   "metadata": {},
   "outputs": [
    {
     "data": {
      "text/plain": [
       "tensor([[0.4759, 0.2931],\n",
       "        [0.6074, 0.5855]])"
      ]
     },
     "execution_count": 222,
     "metadata": {},
     "output_type": "execute_result"
    }
   ],
   "source": [
    "output\n"
   ]
  },
  {
   "cell_type": "code",
   "execution_count": 225,
   "metadata": {},
   "outputs": [
    {
     "name": "stdout",
     "output_type": "stream",
     "text": [
      "Minimum:\t0.2930890917778015\n",
      "Maximum:\t0.6073753833770752\n"
     ]
    }
   ],
   "source": [
    "print(f\"Minimum:\\t{output.min()}\\n\"\n",
    "      f\"Maximum:\\t{output.max()}\")\n"
   ]
  },
  {
   "cell_type": "markdown",
   "metadata": {},
   "source": [
    "### Q9: Find the maximum and minimum index values of the output of 7."
   ]
  },
  {
   "cell_type": "code",
   "execution_count": 230,
   "metadata": {},
   "outputs": [
    {
     "name": "stdout",
     "output_type": "stream",
     "text": [
      "Index of the maximum value:\t2\n",
      "Index of the minimum value:\t1\n"
     ]
    }
   ],
   "source": [
    "print(f\"Index of the maximum value:\\t{output.argmax()}\\n\"\n",
    "      f\"Index of the minimum value:\\t{output.argmin()}\")\n"
   ]
  },
  {
   "cell_type": "markdown",
   "metadata": {},
   "source": [
    "### Q10: Make a random tensor with shape (1, 1, 1, 10) and then create a new tensor with all the 1 dimensions removed to be left with a tensor of shape (10). Set the seed to 7 when you create it and print out the first tensor and it's shape as well as the second tensor and it's shape."
   ]
  },
  {
   "cell_type": "code",
   "execution_count": 267,
   "metadata": {},
   "outputs": [
    {
     "data": {
      "text/plain": [
       "<torch._C.Generator at 0x1ffee0949f0>"
      ]
     },
     "execution_count": 267,
     "metadata": {},
     "output_type": "execute_result"
    },
    {
     "name": "stdout",
     "output_type": "stream",
     "text": [
      "==============================Tensor 1:===============================\n",
      "tensor([[[[0.4726, 0.9538, 0.2345, 0.8960, 0.0762, 0.4543, 0.0288, 0.2434,\n",
      "           0.8717, 0.3625]]]])\n",
      "Tensor 1 shape:\ttorch.Size([1, 1, 1, 10])\n",
      "\n",
      "\n",
      "==============================Tensor 2:===============================\n",
      "tensor([0.4726, 0.9538, 0.2345, 0.8960, 0.0762, 0.4543, 0.0288, 0.2434, 0.8717,\n",
      "        0.3625])\n",
      "Tensor 2 Shape:\ttorch.Size([10])\n"
     ]
    }
   ],
   "source": [
    "torch.manual_seed(443)\n",
    "tensor_1 = torch.rand(1, 1, 1, 10)\n",
    "tensor_2 = tensor_1.squeeze()\n",
    "\n",
    "print(f\"{'Tensor 1:':=^70}\\n{tensor_1}\\nTensor 1 shape:\\t{tensor_1.shape}\\n\\n\\n\"\n",
    "      f\"{'Tensor 2:':=^70}\\n{tensor_2}\\nTensor 2 Shape:\\t{tensor_2.shape}\")\n",
    "\n"
   ]
  }
 ],
 "metadata": {
  "kernelspec": {
   "display_name": "deep_learning",
   "language": "python",
   "name": "python3"
  },
  "language_info": {
   "codemirror_mode": {
    "name": "ipython",
    "version": 3
   },
   "file_extension": ".py",
   "mimetype": "text/x-python",
   "name": "python",
   "nbconvert_exporter": "python",
   "pygments_lexer": "ipython3",
   "version": "3.9.21"
  }
 },
 "nbformat": 4,
 "nbformat_minor": 2
}

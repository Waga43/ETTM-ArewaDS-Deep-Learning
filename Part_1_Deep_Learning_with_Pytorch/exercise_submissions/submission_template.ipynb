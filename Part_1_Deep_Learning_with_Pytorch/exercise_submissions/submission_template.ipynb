{
 "cells": [
  {
   "cell_type": "markdown",
   "metadata": {},
   "source": [
    "## Arewa Data Science Academy\n",
    "### Deep Learning Cohort1.0\n",
    "\n",
    "#### Name: Mustapha Abdullahi\n",
    "#### Email: mustapha@123.com\n",
    "#### Title: Week 1 Solution"
   ]
  },
  {
   "cell_type": "markdown",
   "metadata": {},
   "source": [
    "### Exercises Solution"
   ]
  },
  {
   "cell_type": "code",
   "execution_count": 1,
   "metadata": {},
   "outputs": [
    {
     "ename": "NameError",
     "evalue": "name 'torch' is not defined",
     "output_type": "error",
     "traceback": [
      "\u001b[1;31m---------------------------------------------------------------------------\u001b[0m",
      "\u001b[1;31mNameError\u001b[0m                                 Traceback (most recent call last)",
      "Cell \u001b[1;32mIn[1], line 2\u001b[0m\n\u001b[0;32m      1\u001b[0m \u001b[38;5;66;03m# Exercise 1a- Solution\u001b[39;00m\n\u001b[1;32m----> 2\u001b[0m a \u001b[38;5;241m=\u001b[39m torch\u001b[38;5;241m.\u001b[39mtensor([\u001b[38;5;241m1\u001b[39m, \u001b[38;5;241m2\u001b[39m])\n",
      "\u001b[1;31mNameError\u001b[0m: name 'torch' is not defined"
     ]
    }
   ],
   "source": [
    "# Exercise 1a- Solution\n",
    "a = torch.tensor([1, 2])\n"
   ]
  },
  {
   "cell_type": "markdown",
   "metadata": {},
   "source": [
    "### Additional Exercises Solution"
   ]
  },
  {
   "cell_type": "markdown",
   "metadata": {},
   "source": [
    "**NOTE: NOT TO BE INCLUDED IN SUBMISSION FILE**\\\n",
    "HOW TO SUBMIT NOTES:\n",
    "1. Clone the repository\n",
    "```bash\n",
    "git clone https://github.com/arewadataScience/ArewaDS-Deep-Learning.git\n",
    "```\n",
    "2. Save each week's notebooks in this subfolder `exercise_submissions`\n",
    "3. Use the naming convension `week_{num}_solution.ipynb` e.g. `week_1_solution.ipynb`\n",
    "4. Please, make sure all the clear runs without errors and keep cell outputs before submission.\n",
    "\n",
    "\n",
    "SUBMIT ASSIGNMENT HERE: [CLICK ME ▶️](https://forms.gle/876vi4aNoFf4A2mU7)"
   ]
  }
 ],
 "metadata": {
  "kernelspec": {
   "display_name": "Python 3 (ipykernel)",
   "language": "python",
   "name": "python3"
  },
  "language_info": {
   "codemirror_mode": {
    "name": "ipython",
    "version": 3
   },
   "file_extension": ".py",
   "mimetype": "text/x-python",
   "name": "python",
   "nbconvert_exporter": "python",
   "pygments_lexer": "ipython3",
   "version": "3.11.5"
  }
 },
 "nbformat": 4,
 "nbformat_minor": 2
}
